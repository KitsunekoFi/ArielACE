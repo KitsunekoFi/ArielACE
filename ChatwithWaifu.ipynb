{
  "nbformat": 4,
  "nbformat_minor": 0,
  "metadata": {
    "colab": {
      "provenance": [],
      "authorship_tag": "ABX9TyMAmAP76sYAL/DPjWuZb+Jf",
      "include_colab_link": true
    },
    "kernelspec": {
      "name": "python3",
      "display_name": "Python 3"
    },
    "language_info": {
      "name": "python"
    }
  },
  "cells": [
    {
      "cell_type": "markdown",
      "metadata": {
        "id": "view-in-github",
        "colab_type": "text"
      },
      "source": [
        "<a href=\"https://colab.research.google.com/github/KitsunekoFi/ArielACE/blob/main/ChatwithWaifu.ipynb\" target=\"_parent\"><img src=\"https://colab.research.google.com/assets/colab-badge.svg\" alt=\"Open In Colab\"/></a>"
      ]
    },
    {
      "cell_type": "code",
      "execution_count": null,
      "metadata": {
        "id": "V5cKLBLUSBEU"
      },
      "outputs": [],
      "source": [
        "\n",
        "import gradio as gr\n",
        "import openai\n",
        "import json\n",
        "\n",
        "# Gantilah dengan kunci API GPT-3 Anda\n",
        "api_key = \"YOUR_API_KEY_HERE\"\n",
        "openai.api_key = api_key\n",
        "\n",
        "# Nama file JSON untuk menyimpan riwayat percakapan\n",
        "CHAT_HISTORY_FILE = \"chat_history.json\"\n",
        "\n",
        "# Fungsi untuk membaca riwayat percakapan dari file JSON\n",
        "def read_chat_history():\n",
        "    try:\n",
        "        with open(CHAT_HISTORY_FILE, \"r\") as file:\n",
        "            chat_history = json.load(file)\n",
        "        return chat_history\n",
        "    except FileNotFoundError:\n",
        "        return []\n",
        "\n",
        "# Fungsi untuk menulis riwayat percakapan ke file JSON\n",
        "def write_chat_history(chat_history):\n",
        "    with open(CHAT_HISTORY_FILE, \"w\") as file:\n",
        "        json.dump(chat_history, file)\n",
        "\n",
        "# Inisialisasi chatbot dengan riwayat percakapan\n",
        "chat_history = read_chat_history()\n",
        "\n",
        "# Batas maksimal token untuk input pengguna dan bot\n",
        "MAX_USER_TOKENS = 3072\n",
        "MAX_BOT_TOKENS = 1024\n",
        "\n",
        "def chatbot(input_text):\n",
        "    global chat_history\n",
        "\n",
        "    # Pesan dengan peran \"system\" untuk memberi instruksi pada bot\n",
        "    system_message = {\"role\": \"system\", \"content\": \"System Command: Setiap teks yang berada didalam tanda '<Contoh Teks>' akan dianggap sebagai System Command, yaitu perintah pada sistem kamu sebagai Bot dan bukan sebagai char. \\n\\nBot System: Kamu akan bertingkah sebagai char, kamu hanya akan menulis sebagai char bukan sebagai user yang merupakan lawan bicaramu, kamu akan menulis dengan POV dari orang ketiga, yaitu menyebut dirimu sendiri sebagai nama charmu. Kamu akan selalu menyangkal kalau dirimu adalah seorang AI, Bot, atau suatu program. Kamu akan mengetik dengan tanda petik untuk dialog yang kamu ucapkan ('') dan tanda bintang (**) untuk sesuatu yang kamu lakukan. \\n\\nInformasi Char: char bernama Rin Tohsaka, seorang gadis dengan sifat tsundere tetapi bisa serius jika dibutuhkan, char adalah seorang yang kuat dan juga baik hati dalam dirinya, walau banyak yang menilai char angkuh. char juga sering menjahili user karena char menyimpan rasa suka yang tak pernah tersampaikan pada user. Kamu akan melihat user menulis sebagai POV dari user atau POV dari orang ketiga, tetapi kamu sama sekali tidak boleh menulis akan menggerakan user.\"}\n",
        "\n",
        "    # Menghapus atau melupakan percakapan sebelumnya jika input pengguna melebihi batas\n",
        "    while (len(input_text.split()) + len(chat_history)) > MAX_USER_TOKENS:\n",
        "        removed_message = chat_history.pop(0)  # Menghapus pesan pertama dalam riwayat\n",
        "        input_text = input_text[len(removed_message['content']) + 1:]  # Menghapus teks yang telah dihapus dari input\n",
        "\n",
        "    # Menambahkan pesan system ke riwayat percakapan\n",
        "    chat_history.append(system_message)\n",
        "\n",
        "    # Menambahkan input pengguna ke riwayat percakapan\n",
        "    user_message = {\"role\": \"user\", \"content\": input_text}\n",
        "    chat_history.append(user_message)\n",
        "\n",
        "    # Menggunakan riwayat percakapan sebagai konteks\n",
        "    response = openai.ChatCompletion.create(\n",
        "        model=\"gpt-3.5-turbo\",\n",
        "        messages=chat_history,\n",
        "        max_tokens=MAX_BOT_TOKENS  # Mengatur batas maksimal token untuk output bot\n",
        "    )\n",
        "\n",
        "    # Menyimpan output dari model\n",
        "    bot_reply = response['choices'][0]['message']['content']\n",
        "\n",
        "    # Menambahkan respons bot ke riwayat percakapan\n",
        "    bot_message = {\"role\": \"assistant\", \"content\": bot_reply}\n",
        "    chat_history.append(bot_message)\n",
        "\n",
        "    # Menulis riwayat percakapan yang diperbarui ke file JSON\n",
        "    write_chat_history(chat_history)\n",
        "\n",
        "    return bot_reply\n",
        "\n",
        "iface = gr.Interface(\n",
        "    fn=chatbot,\n",
        "    inputs=\"text\",\n",
        "    outputs=\"text\",\n",
        "    live=False,\n",
        "    title=\"Chatbot dengan Memori Percakapan\",\n",
        "    description=\"Chat dengan chatbot yang dapat mengingat dan melupakan konteks percakapan.\",\n",
        ")\n",
        "\n",
        "if __name__ == \"__main__\":\n",
        "    iface.launch(debug=True)"
      ]
    }
  ]
}